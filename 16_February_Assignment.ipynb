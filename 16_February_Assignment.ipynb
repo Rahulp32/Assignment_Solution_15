{
 "cells": [
  {
   "cell_type": "markdown",
   "id": "66cddb86-1940-42dd-a4f3-5a13962b8c8e",
   "metadata": {},
   "source": [
    "# 16_February_15th_Assignment"
   ]
  },
  {
   "cell_type": "code",
   "execution_count": null,
   "id": "c7ba59b2-aa5a-4fa2-851b-78ac9434c0eb",
   "metadata": {},
   "outputs": [],
   "source": []
  },
  {
   "cell_type": "markdown",
   "id": "e08ca984-a487-4015-b9ab-a6b302c2e8bf",
   "metadata": {},
   "source": [
    "## Q1. What is a database? Differentiate between SQL and NoSQL databases."
   ]
  },
  {
   "cell_type": "markdown",
   "id": "95f539fa-6ffe-4bd9-9929-13a63f32a59d",
   "metadata": {},
   "source": [
    "\n",
    "\n",
    "### **What is a Database?**\n",
    "### A **database** is an organized collection of data that is stored and accessed electronically. It allows for efficient storage, retrieval, and management of data. Databases are used to store structured information such as customer data, inventory data, transaction records, etc. They are managed by a **Database Management System (DBMS)**.\n",
    "\n",
    "---\n",
    "\n",
    "#### **Difference between SQL and NoSQL Databases:**\n",
    "\n",
    "| **Feature**         | **SQL Databases (Relational)**                  | **NoSQL Databases (Non-relational)**            |\n",
    "|---------------------|-------------------------------------------------|-------------------------------------------------|\n",
    "| **Data Structure**   | Structured data stored in tables (rows and columns). | Unstructured or semi-structured data (JSON, BSON, key-value pairs). |\n",
    "| **Schema**           | Fixed schema (schema must be defined before data is inserted). | Flexible schema (can store data without a predefined structure). |\n",
    "| **Query Language**   | Uses **Structured Query Language (SQL)** for queries. | Varies (e.g., MongoDB uses its query language, or key-value retrieval in Redis). |\n",
    "| **Scalability**      | Typically scales vertically (upgrading server hardware). | Scales horizontally (across multiple servers). |\n",
    "| **Transactions**     | Supports **ACID** properties (Atomicity, Consistency, Isolation, Durability). | Limited support for ACID, often follows **BASE** (Basically Available, Soft state, Eventual consistency). |\n",
    "| **Examples**         | MySQL, PostgreSQL, Oracle, SQL Server.          | MongoDB, CouchDB, Cassandra, Redis, DynamoDB.    |\n",
    "| **Use Cases**        | Best suited for complex queries, data integrity, and structured data. | Best suited for large-scale applications, big data, and real-time applications. |\n",
    "\n",
    "---\n",
    "\n"
   ]
  },
  {
   "cell_type": "code",
   "execution_count": null,
   "id": "274bbfc8-6820-4655-989a-7bba4f17a672",
   "metadata": {},
   "outputs": [],
   "source": []
  },
  {
   "cell_type": "markdown",
   "id": "4b206299-5444-43d7-9e03-60a602cb6276",
   "metadata": {},
   "source": [
    "## **Q2. What is DDL? Explain why CREATE, DROP, ALTER, and TRUNCATE are used with an example.**\n",
    "\n",
    "### **What is DDL (Data Definition Language)?**\n",
    "\n",
    "**DDL** is a subset of SQL used to define, modify, and delete database structures such as tables, indexes, and schemas. It does not deal with the manipulation of data but with the structure of the database itself.\n",
    "\n",
    "### **Common DDL Commands and Their Use:**\n",
    "\n",
    "1. **CREATE**:\n",
    "   - **Purpose**: Used to create new database objects like tables, indexes, or databases.\n",
    "   - **Example**: Create a table `students` with columns `id`, `name`, and `age`.\n",
    "\n"
   ]
  },
  {
   "cell_type": "code",
   "execution_count": null,
   "id": "2902d5af-1e68-4301-bf94-ac8d3397a22b",
   "metadata": {},
   "outputs": [],
   "source": [
    "CREATE TABLE students (\n",
    "    id INT PRIMARY KEY,\n",
    "    name VARCHAR(100),\n",
    "    age INT\n",
    ");\n"
   ]
  },
  {
   "cell_type": "markdown",
   "id": "85055527-e130-478b-b2c1-0f48660db477",
   "metadata": {},
   "source": [
    "2. **DROP**:\n",
    "   - **Purpose**: Used to delete an existing database object such as a table or a database.\n",
    "   - **Example**: Drop the `students` table from the database."
   ]
  },
  {
   "cell_type": "code",
   "execution_count": null,
   "id": "daeab073-5455-475e-b09b-fac62927e5c1",
   "metadata": {},
   "outputs": [],
   "source": [
    "DROP TABLE students;\n"
   ]
  },
  {
   "cell_type": "markdown",
   "id": "85abdd1e-179f-4b6a-bfa5-6ed8968163f6",
   "metadata": {},
   "source": [
    "3. **ALTER**:\n",
    "   - **Purpose**: Used to modify an existing database object, such as adding, deleting, or modifying columns in a table.\n",
    "   - **Example**: Add a new column `address` to the `students` table."
   ]
  },
  {
   "cell_type": "code",
   "execution_count": null,
   "id": "8ce350ff-efcb-42ec-b5af-826c04f5314b",
   "metadata": {},
   "outputs": [],
   "source": [
    "ALTER TABLE students\n",
    "ADD address VARCHAR(255);\n"
   ]
  },
  {
   "cell_type": "markdown",
   "id": "295a1c36-7365-44bd-8f33-2a5bdd34dec2",
   "metadata": {},
   "source": [
    "4. **TRUNCATE**:\n",
    "   - **Purpose**: Used to delete all rows in a table but keeps the structure of the table intact. It is more efficient than using `DELETE` for removing all rows because it does not log individual row deletions.\n",
    "   - **Example**: Remove all data from the `students` table."
   ]
  },
  {
   "cell_type": "code",
   "execution_count": null,
   "id": "e2203b55-c0b7-40b1-ab1e-cf33ede31916",
   "metadata": {},
   "outputs": [],
   "source": [
    "TRUNCATE TABLE students;\n"
   ]
  },
  {
   "cell_type": "markdown",
   "id": "35c6580d-692b-47e5-a30d-1ece55b71de8",
   "metadata": {},
   "source": [
    "\n",
    "\n",
    "### **Summary**\n",
    "\n",
    "- **DDL** refers to SQL commands used to define and manage the structure of database objects.\n",
    "- **CREATE** is used to create new objects.\n",
    "- **DROP** is used to remove existing objects.\n",
    "- **ALTER** is used to modify the structure of existing objects.\n",
    "- **TRUNCATE** is used to delete all rows from a table without deleting the table itself."
   ]
  },
  {
   "cell_type": "code",
   "execution_count": null,
   "id": "d5e06c39-22f7-43bb-9483-7c2f54298e73",
   "metadata": {},
   "outputs": [],
   "source": []
  },
  {
   "cell_type": "markdown",
   "id": "15e0f37b-cee2-41a9-9fb2-1a55965058c1",
   "metadata": {},
   "source": [
    "## Q3. What is DML? Explain INSERT, UPDATE, and DELETE with an example."
   ]
  },
  {
   "cell_type": "markdown",
   "id": "a81728c0-1b04-41bc-9862-5a0abc00af57",
   "metadata": {},
   "source": [
    "### **DML** is a subset of SQL used for manipulating data within database objects (usually tables). DML commands allow you to add, modify, or delete data stored in the tables of a database.\n",
    "\n",
    "### **Common DML Commands:**\n",
    "\n",
    "1. **INSERT**:\n",
    "   - **Purpose**: Used to add new rows of data into a table.\n",
    "   - **Example**: Insert a new student into the `students` table."
   ]
  },
  {
   "cell_type": "code",
   "execution_count": null,
   "id": "d156b9ce-5d4e-4c20-b1e2-a1c7bdbb2f01",
   "metadata": {},
   "outputs": [],
   "source": [
    "INSERT INTO students (id, name, age)\n",
    "VALUES (1, 'John Doe', 20);\n"
   ]
  },
  {
   "cell_type": "markdown",
   "id": "7e17dd6f-71b8-4ce5-ae23-08d6a5a15092",
   "metadata": {},
   "source": [
    "In above example, a new row with `id=1`, `name='John Doe'`, and `age=20` is added to the `students` table."
   ]
  },
  {
   "cell_type": "markdown",
   "id": "9aacd7d7-bd7e-46c4-9a96-53fb16fb7380",
   "metadata": {},
   "source": [
    "2. **UPDATE**:\n",
    "   - **Purpose**: Used to modify the existing data in a table. You specify which row to update using a **WHERE** clause.\n",
    "   - **Example**: Update the age of the student with `id=1` to 21."
   ]
  },
  {
   "cell_type": "code",
   "execution_count": null,
   "id": "faf86fcd-fe49-4a82-a91f-66ec4db8a1f2",
   "metadata": {},
   "outputs": [],
   "source": [
    "UPDATE students\n",
    "SET age = 21\n",
    "WHERE id = 1;\n"
   ]
  },
  {
   "cell_type": "markdown",
   "id": "fe47cf6a-230b-49f1-950b-345433402249",
   "metadata": {},
   "source": [
    "In above example, the `age` of the student with `id=1` is changed to 21."
   ]
  },
  {
   "cell_type": "markdown",
   "id": "93c90ebf-4748-4329-a61e-7190eb872784",
   "metadata": {},
   "source": [
    "3. **DELETE**:\n",
    "   - **Purpose**: Used to remove one or more rows from a table. A **WHERE** clause is generally used to specify which rows to delete.\n",
    "   - **Example**: Delete the student with `id=1` from the `students` table."
   ]
  },
  {
   "cell_type": "code",
   "execution_count": null,
   "id": "134163e3-8040-4fcc-b83e-c2136bba2e12",
   "metadata": {},
   "outputs": [],
   "source": [
    "DELETE FROM students\n",
    "WHERE id = 1;\n"
   ]
  },
  {
   "cell_type": "markdown",
   "id": "7b6b15d7-114a-439f-9a7e-4935c91df144",
   "metadata": {},
   "source": [
    "In this example, the row where `id=1` is deleted from the `students` table."
   ]
  },
  {
   "cell_type": "code",
   "execution_count": null,
   "id": "fdb6d811-8a8f-49db-aaad-e24243b5d653",
   "metadata": {},
   "outputs": [],
   "source": []
  },
  {
   "cell_type": "markdown",
   "id": "d02896ad-1404-404c-b2b3-ab188c12d46f",
   "metadata": {},
   "source": [
    "## Q4. What is DQL? Explain SELECT with an example."
   ]
  },
  {
   "cell_type": "markdown",
   "id": "dc1c386d-4035-44e0-802b-24bff5877cf1",
   "metadata": {},
   "source": [
    "### **What is DQL (Data Query Language)?**\n",
    "\n",
    "**DQL** is a subset of SQL used for querying and retrieving data from the database. The most common DQL command is **SELECT**, which allows you to retrieve data based on specific criteria.\n",
    "\n",
    "#### **SELECT Command:**\n",
    "\n",
    "The **SELECT** statement is used to query a database and retrieve specific information. It can retrieve all or specific columns from one or more tables.\n",
    "\n",
    "- **Basic Syntax**:"
   ]
  },
  {
   "cell_type": "code",
   "execution_count": null,
   "id": "02d324d6-9f9a-449e-a206-ada182758edd",
   "metadata": {},
   "outputs": [],
   "source": [
    "SELECT column1, column2, ...\n",
    "FROM table_name\n",
    "WHERE condition;\n"
   ]
  },
  {
   "cell_type": "markdown",
   "id": "5dbf7a4f-ad6c-41bd-8157-2c7f79b6333c",
   "metadata": {},
   "source": [
    "#### **Example 1**: Retrieve all columns from the `students` table."
   ]
  },
  {
   "cell_type": "code",
   "execution_count": null,
   "id": "0cfbc9e5-ee75-4854-a828-4f1f0adb7342",
   "metadata": {},
   "outputs": [],
   "source": [
    "SELECT * FROM students;\n"
   ]
  },
  {
   "cell_type": "markdown",
   "id": "877cbc4b-5b2b-4398-aa3d-59fae110c885",
   "metadata": {},
   "source": [
    "This retrieves all rows and all columns from the `students` table.\n",
    "\n",
    "#### **Example 2**: Retrieve specific columns (`id` and `name`) from the `students` table."
   ]
  },
  {
   "cell_type": "code",
   "execution_count": null,
   "id": "44b4d6dd-a495-439d-ae7b-76327dd48b38",
   "metadata": {},
   "outputs": [],
   "source": [
    "SELECT id, name FROM students;\n"
   ]
  },
  {
   "cell_type": "markdown",
   "id": "279f06ad-9f20-4305-8a70-017913b488a4",
   "metadata": {},
   "source": [
    "This retrieves only the `id` and `name` columns from the `students` table.\n",
    "\n",
    "#### **Example 3**: Retrieve data with a condition (students who are 20 years old)."
   ]
  },
  {
   "cell_type": "code",
   "execution_count": null,
   "id": "e3f45e7c-4c36-4bfa-89fb-eea0a4142b4f",
   "metadata": {},
   "outputs": [],
   "source": [
    "SELECT * FROM students\n",
    "WHERE age = 20;\n"
   ]
  },
  {
   "cell_type": "markdown",
   "id": "4ff313e0-b85b-4eee-b36b-acecaeff97ee",
   "metadata": {},
   "source": [
    "This retrieves all columns for students whose age is 20.\n",
    "\n",
    "#### **Example 4**: Retrieve data and sort the result by age in ascending order."
   ]
  },
  {
   "cell_type": "code",
   "execution_count": null,
   "id": "599aa499-f14a-42bf-b08e-c29154f55e61",
   "metadata": {},
   "outputs": [],
   "source": [
    "SELECT * FROM students\n",
    "ORDER BY age ASC;\n"
   ]
  },
  {
   "cell_type": "markdown",
   "id": "fd55a2a8-6495-4ef7-8017-aba169710b7a",
   "metadata": {},
   "source": [
    "This retrieves all columns from the `students` table, sorted by the `age` column in ascending order.\n",
    "\n",
    "#### **Example 5**: Retrieve data and limit the result to the top 3 students."
   ]
  },
  {
   "cell_type": "code",
   "execution_count": null,
   "id": "697c6c71-8110-4efb-91fb-bb05c093aa77",
   "metadata": {},
   "outputs": [],
   "source": [
    "SELECT * FROM students\n",
    "LIMIT 3;\n"
   ]
  },
  {
   "cell_type": "markdown",
   "id": "388eba9b-6e34-4e43-986e-12d0ce93972e",
   "metadata": {},
   "source": [
    "This retrieves only the first 3 rows from the `students` table.\n",
    "\n",
    "---\n",
    "\n",
    "### **Summary of DML and DQL**\n",
    "\n",
    "- **DML (Data Manipulation Language)**: Used to modify data in the database (INSERT, UPDATE, DELETE).\n",
    "  - **INSERT**: Adds new rows of data.\n",
    "  - **UPDATE**: Modifies existing rows of data.\n",
    "  - **DELETE**: Removes rows of data.\n",
    "  \n",
    "- **DQL (Data Query Language)**: Used to query and retrieve data from the database (SELECT).\n",
    "  - **SELECT**: Retrieves data based on specific criteria or conditions."
   ]
  },
  {
   "cell_type": "code",
   "execution_count": null,
   "id": "a545e909-5d87-453c-ad20-e9a4dc8c1bf3",
   "metadata": {},
   "outputs": [],
   "source": []
  },
  {
   "cell_type": "markdown",
   "id": "8ad4cf55-4aa9-453e-beb1-03996259f0d9",
   "metadata": {},
   "source": [
    "## Q5. Explain Primary Key and Foreign Key."
   ]
  },
  {
   "cell_type": "markdown",
   "id": "8c2fbe6c-d985-47e0-a179-7ca11be252f8",
   "metadata": {},
   "source": [
    "### **Primary Key:**\n",
    "\n",
    "A **Primary Key** is a column (or a combination of columns) in a table that uniquely identifies each row in that table. Each value in the primary key must be unique and not null. It ensures the integrity and uniqueness of the data within a table. A table can have only one primary key.\n",
    "\n",
    "- **Properties of Primary Key**:\n",
    "  - Uniqueness: Each record must have a unique value in the primary key column.\n",
    "  - Non-null: The primary key column cannot have NULL values.\n",
    "  - Uniquely identifies records: No two rows can have the same value for the primary key.\n",
    "\n",
    "- **Example**: Consider a `students` table with the following structure:"
   ]
  },
  {
   "cell_type": "code",
   "execution_count": null,
   "id": "b36bca98-d30a-4820-bbd5-cae2a66aacfd",
   "metadata": {},
   "outputs": [],
   "source": [
    "CREATE TABLE students (\n",
    "    student_id INT PRIMARY KEY,\n",
    "    name VARCHAR(100),\n",
    "    age INT\n",
    ");\n"
   ]
  },
  {
   "cell_type": "markdown",
   "id": "c624f2f7-1963-410b-b884-06308ff9dab5",
   "metadata": {},
   "source": [
    "  In this example, `student_id` is the primary key, which ensures that each student has a unique identifier.\n",
    "\n",
    "---\n",
    "\n",
    "#### **Foreign Key:**\n",
    "\n",
    "A **Foreign Key** is a column (or a combination of columns) in one table that refers to the primary key in another table. It establishes a relationship between the two tables and ensures referential integrity, meaning that the values in the foreign key column must match values in the primary key column of the related table, or be NULL.\n",
    "\n",
    "- **Properties of Foreign Key**:\n",
    "  - It is used to establish and enforce a link between the data in two tables.\n",
    "  - The foreign key column may have duplicate values and may be NULL.\n",
    "  - It ensures that the data in the child table is valid according to the parent table.\n",
    "\n",
    "- **Example**: Consider two tables `students` and `enrollments`. `students` has a primary key `student_id`, and `enrollments` has a foreign key that references `student_id` in `students`."
   ]
  },
  {
   "cell_type": "code",
   "execution_count": null,
   "id": "a88da3b3-3a96-4abd-b957-00085bb775a5",
   "metadata": {},
   "outputs": [],
   "source": [
    "CREATE TABLE students (\n",
    "    student_id INT PRIMARY KEY,\n",
    "    name VARCHAR(100),\n",
    "    age INT\n",
    ");\n",
    "\n",
    "CREATE TABLE enrollments (\n",
    "    enrollment_id INT PRIMARY KEY,\n",
    "    student_id INT,\n",
    "    course_name VARCHAR(100),\n",
    "    FOREIGN KEY (student_id) REFERENCES students(student_id)\n",
    ");\n"
   ]
  },
  {
   "cell_type": "markdown",
   "id": "efe3ab6f-1ea2-4bcf-b116-ea194ac2296e",
   "metadata": {},
   "source": [
    "  In this example, `student_id` in the `enrollments` table is a foreign key that refers to the `student_id` in the `students` table. This ensures that only students who exist in the `students` table can be enrolled in courses."
   ]
  },
  {
   "cell_type": "code",
   "execution_count": null,
   "id": "b021645f-7a32-4eb8-9e35-630e35b3c11e",
   "metadata": {},
   "outputs": [],
   "source": []
  },
  {
   "cell_type": "markdown",
   "id": "e676dee3-c310-48af-9e99-7347c0aa8e71",
   "metadata": {},
   "source": [
    "## **Q6. Write a Python Code to Connect MySQL to Python. Explain the `cursor()` and `execute()` Method.**\n",
    "\n",
    "#### **Python Code to Connect MySQL to Python:**\n",
    "\n",
    "To connect Python with MySQL, you will need to install the **mysql-connector** library and use it to establish a connection. Below is an example code for connecting to a MySQL database and performing a query:"
   ]
  },
  {
   "cell_type": "code",
   "execution_count": null,
   "id": "772cd978-376f-45d0-9b19-f1e3cb0b032a",
   "metadata": {},
   "outputs": [],
   "source": [
    "import mysql.connector\n",
    "\n",
    "# Establish a connection to the MySQL database\n",
    "conn = mysql.connector.connect(\n",
    "    host=\"localhost\",      # The host where your MySQL server is running (localhost or IP address)\n",
    "    user=\"root\",           # Your MySQL username\n",
    "    password=\"password\",   # Your MySQL password\n",
    "    database=\"test_db\"     # The database to connect to\n",
    ")\n",
    "\n",
    "# Create a cursor object using the cursor() method\n",
    "cursor = conn.cursor()\n",
    "\n",
    "# Execute a query using the execute() method\n",
    "cursor.execute(\"SELECT * FROM students\")\n",
    "\n",
    "# Fetch and print the result of the query\n",
    "result = cursor.fetchall()\n",
    "for row in result:\n",
    "    print(row)\n",
    "\n",
    "# Close the cursor and connection\n",
    "cursor.close()\n",
    "conn.close()\n"
   ]
  },
  {
   "cell_type": "markdown",
   "id": "89e855e9-4b0e-44c3-9fa3-f1c557a387ef",
   "metadata": {},
   "source": [
    "#### **Explanation of `cursor()` and `execute()` Methods:**\n",
    "\n",
    "1. **cursor() Method:**\n",
    "   - The `cursor()` method is used to create a cursor object, which is used to interact with the MySQL database. It allows you to execute SQL queries and fetch data from the database.\n",
    "   - **Example**: `cursor = conn.cursor()` creates a cursor object that is used to perform operations like executing queries.\n",
    "\n",
    "2. **execute() Method:**\n",
    "   - The `execute()` method is used to execute a single SQL query. It sends the query to the database for execution. After execution, you can use methods like `fetchall()` or `fetchone()` to retrieve the result of the query.\n",
    "   - **Example**: `cursor.execute(\"SELECT * FROM students\")` executes a `SELECT` statement to retrieve all rows from the `students` table.\n",
    "   \n",
    "   - **Common Use Cases**:\n",
    "     - **SELECT** queries to retrieve data.\n",
    "     - **INSERT**, **UPDATE**, or **DELETE** queries to modify data.\n",
    "   \n",
    "---\n",
    "\n",
    "### **Summary of Methods:**\n",
    "- **`cursor()`**: Creates a cursor object to interact with the database.\n",
    "- **`execute()`**: Executes a given SQL query (such as SELECT, INSERT, UPDATE, DELETE)."
   ]
  },
  {
   "cell_type": "code",
   "execution_count": null,
   "id": "d7ef074f-88ef-4b76-b7d0-d311366b1231",
   "metadata": {},
   "outputs": [],
   "source": []
  },
  {
   "cell_type": "markdown",
   "id": "2d587884-08a3-4f39-84de-60c5c34dbebe",
   "metadata": {},
   "source": [
    "## Q7. Give the order of execution of SQL clauses in an SQL query."
   ]
  },
  {
   "cell_type": "markdown",
   "id": "81884ef9-5b61-4efc-9d83-50a2ae44d0ec",
   "metadata": {},
   "source": [
    "### **Order of Execution of SQL Clauses**\n",
    "\n",
    "When you write an SQL query, the SQL clauses are processed in a specific order, even though they may be written in a different sequence in the query. Here is the correct order in which SQL clauses are executed:\n",
    "\n",
    "1. **FROM**: \n",
    "   - The first clause that is processed. It specifies the table(s) from which data is to be retrieved.\n",
    "   \n",
    "2. **JOIN**: \n",
    "   - If any joins are involved, they are processed after the `FROM` clause, specifying how the tables should be combined.\n",
    "\n",
    "3. **WHERE**: \n",
    "   - The `WHERE` clause filters records based on the condition(s) provided. It limits the rows returned by the query.\n",
    "   \n",
    "4. **GROUP BY**: \n",
    "   - After filtering the records, the `GROUP BY` clause groups rows that have the same values into summary rows, like finding the total of each group.\n",
    "\n",
    "5. **HAVING**: \n",
    "   - This clause is used to filter records after the `GROUP BY` operation. It allows you to apply conditions to grouped records, just as `WHERE` is used to filter individual rows.\n",
    "\n",
    "6. **SELECT**: \n",
    "   - The `SELECT` clause specifies the columns that are to be returned. This is processed after grouping.\n",
    "\n",
    "7. **DISTINCT**: \n",
    "   - If you are using `DISTINCT`, it is applied after the `SELECT` clause to eliminate duplicate rows in the result.\n",
    "\n",
    "8. **ORDER BY**: \n",
    "   - The `ORDER BY` clause sorts the result set based on one or more columns. This is processed after selecting and filtering the rows.\n",
    "\n",
    "9. **LIMIT / OFFSET**: \n",
    "   - Finally, the `LIMIT` clause limits the number of rows returned, and `OFFSET` specifies where to begin retrieving rows from.\n",
    "\n",
    "### **Example Query for Demonstration**:"
   ]
  },
  {
   "cell_type": "code",
   "execution_count": null,
   "id": "f778cae2-f202-4190-aeca-774ee2ba685c",
   "metadata": {},
   "outputs": [],
   "source": [
    "SELECT column1, SUM(column2)\n",
    "FROM table_name\n",
    "WHERE condition\n",
    "GROUP BY column1\n",
    "HAVING SUM(column2) > 100\n",
    "ORDER BY column1 DESC\n",
    "LIMIT 10;\n"
   ]
  },
  {
   "cell_type": "markdown",
   "id": "b1d11594-7858-4356-8acc-ba6d2fe6316e",
   "metadata": {},
   "source": [
    "\n",
    "### **Order of Execution**:\n",
    "1. **FROM**: Identifies the table `table_name`.\n",
    "2. **WHERE**: Filters records based on the `condition`.\n",
    "3. **GROUP BY**: Groups the data by `column1`.\n",
    "4. **HAVING**: Filters the grouped data where the sum of `column2` is greater than 100.\n",
    "5. **SELECT**: Chooses the columns `column1` and the aggregated `SUM(column2)`.\n",
    "6. **ORDER BY**: Sorts the result set by `column1` in descending order.\n",
    "7. **LIMIT**: Limits the result to 10 rows.\n"
   ]
  },
  {
   "cell_type": "code",
   "execution_count": null,
   "id": "e4cfa2c6-dad6-45b1-950b-e0c549a96eb5",
   "metadata": {},
   "outputs": [],
   "source": []
  }
 ],
 "metadata": {
  "kernelspec": {
   "display_name": "Python 3 (ipykernel)",
   "language": "python",
   "name": "python3"
  },
  "language_info": {
   "codemirror_mode": {
    "name": "ipython",
    "version": 3
   },
   "file_extension": ".py",
   "mimetype": "text/x-python",
   "name": "python",
   "nbconvert_exporter": "python",
   "pygments_lexer": "ipython3",
   "version": "3.11.7"
  }
 },
 "nbformat": 4,
 "nbformat_minor": 5
}
